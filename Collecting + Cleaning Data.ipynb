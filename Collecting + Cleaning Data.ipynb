{
 "cells": [
  {
   "cell_type": "markdown",
   "metadata": {},
   "source": [
    "# What Genre Am I?"
   ]
  },
  {
   "cell_type": "markdown",
   "metadata": {},
   "source": [
    "The purpose of this project is to use machine learning and natural language procressing to determine the genre of a song based on it's lyrics and audio features."
   ]
  },
  {
   "cell_type": "code",
   "execution_count": 1,
   "metadata": {},
   "outputs": [],
   "source": [
    "import spotipy\n",
    "from spotipy.oauth2 import SpotifyClientCredentials\n",
    "import spotipy.util as util\n",
    "from tqdm import tqdm_notebook\n",
    "from collections import defaultdict\n",
    "\n",
    "import pandas as pd\n",
    "import numpy as np\n",
    "import matplotlib.pyplot as plt\n",
    "import seaborn as sns\n",
    "\n",
    "%config InlineBackend.figure_format = 'retina'\n",
    "%matplotlib inline"
   ]
  },
  {
   "cell_type": "markdown",
   "metadata": {},
   "source": [
    "## Collecting + Cleaning Data"
   ]
  },
  {
   "cell_type": "markdown",
   "metadata": {},
   "source": [
    "I collected my data from 2 main sources: \n",
    "- The 380,000+ Lyrics from Metrolyrics kaggle dataset that was created by Gyanendra Mishra (https://www.kaggle.com/gyani95/380000-lyrics-from-metrolyrics)\n",
    "- Spotify API for audio features such as mode, acousticness & danceability, please refer to spotify's developer documentation for a full list of features and their descriptions: https://developer.spotify.com/documentation/web-api/reference/tracks/get-audio-features/"
   ]
  },
  {
   "cell_type": "markdown",
   "metadata": {},
   "source": [
    "### Kaggle Lyrics Data Initial Cleaning"
   ]
  },
  {
   "cell_type": "code",
   "execution_count": 2,
   "metadata": {},
   "outputs": [
    {
     "data": {
      "text/html": [
       "<div>\n",
       "<style scoped>\n",
       "    .dataframe tbody tr th:only-of-type {\n",
       "        vertical-align: middle;\n",
       "    }\n",
       "\n",
       "    .dataframe tbody tr th {\n",
       "        vertical-align: top;\n",
       "    }\n",
       "\n",
       "    .dataframe thead th {\n",
       "        text-align: right;\n",
       "    }\n",
       "</style>\n",
       "<table border=\"1\" class=\"dataframe\">\n",
       "  <thead>\n",
       "    <tr style=\"text-align: right;\">\n",
       "      <th></th>\n",
       "      <th>index</th>\n",
       "      <th>song</th>\n",
       "      <th>year</th>\n",
       "      <th>artist</th>\n",
       "      <th>genre</th>\n",
       "      <th>lyrics</th>\n",
       "    </tr>\n",
       "  </thead>\n",
       "  <tbody>\n",
       "    <tr>\n",
       "      <th>0</th>\n",
       "      <td>0</td>\n",
       "      <td>ego-remix</td>\n",
       "      <td>2009</td>\n",
       "      <td>beyonce-knowles</td>\n",
       "      <td>Pop</td>\n",
       "      <td>Oh baby, how you doing?\\nYou know I'm gonna cu...</td>\n",
       "    </tr>\n",
       "    <tr>\n",
       "      <th>1</th>\n",
       "      <td>1</td>\n",
       "      <td>then-tell-me</td>\n",
       "      <td>2009</td>\n",
       "      <td>beyonce-knowles</td>\n",
       "      <td>Pop</td>\n",
       "      <td>playin' everything so easy,\\nit's like you see...</td>\n",
       "    </tr>\n",
       "    <tr>\n",
       "      <th>2</th>\n",
       "      <td>2</td>\n",
       "      <td>honesty</td>\n",
       "      <td>2009</td>\n",
       "      <td>beyonce-knowles</td>\n",
       "      <td>Pop</td>\n",
       "      <td>If you search\\nFor tenderness\\nIt isn't hard t...</td>\n",
       "    </tr>\n",
       "    <tr>\n",
       "      <th>3</th>\n",
       "      <td>3</td>\n",
       "      <td>you-are-my-rock</td>\n",
       "      <td>2009</td>\n",
       "      <td>beyonce-knowles</td>\n",
       "      <td>Pop</td>\n",
       "      <td>Oh oh oh I, oh oh oh I\\n[Verse 1:]\\nIf I wrote...</td>\n",
       "    </tr>\n",
       "    <tr>\n",
       "      <th>4</th>\n",
       "      <td>4</td>\n",
       "      <td>black-culture</td>\n",
       "      <td>2009</td>\n",
       "      <td>beyonce-knowles</td>\n",
       "      <td>Pop</td>\n",
       "      <td>Party the people, the people the party it's po...</td>\n",
       "    </tr>\n",
       "  </tbody>\n",
       "</table>\n",
       "</div>"
      ],
      "text/plain": [
       "   index             song  year           artist genre  \\\n",
       "0      0        ego-remix  2009  beyonce-knowles   Pop   \n",
       "1      1     then-tell-me  2009  beyonce-knowles   Pop   \n",
       "2      2          honesty  2009  beyonce-knowles   Pop   \n",
       "3      3  you-are-my-rock  2009  beyonce-knowles   Pop   \n",
       "4      4    black-culture  2009  beyonce-knowles   Pop   \n",
       "\n",
       "                                              lyrics  \n",
       "0  Oh baby, how you doing?\\nYou know I'm gonna cu...  \n",
       "1  playin' everything so easy,\\nit's like you see...  \n",
       "2  If you search\\nFor tenderness\\nIt isn't hard t...  \n",
       "3  Oh oh oh I, oh oh oh I\\n[Verse 1:]\\nIf I wrote...  \n",
       "4  Party the people, the people the party it's po...  "
      ]
     },
     "execution_count": 2,
     "metadata": {},
     "output_type": "execute_result"
    }
   ],
   "source": [
    "# reading in kaggle data\n",
    "df = pd.read_csv('/Users/sarinaamin/Downloads/lyrics.csv')\n",
    "df.head()"
   ]
  },
  {
   "cell_type": "code",
   "execution_count": 3,
   "metadata": {},
   "outputs": [
    {
     "data": {
      "text/plain": [
       "(266556, 5)"
      ]
     },
     "execution_count": 3,
     "metadata": {},
     "output_type": "execute_result"
    }
   ],
   "source": [
    "df.drop('index', axis=1, inplace=True)\n",
    "df.shape # (362237, 5) - Dropped nan values before saving to csv\n",
    "df.dropna(inplace=True)\n",
    "df.shape # (266556, 5)"
   ]
  },
  {
   "cell_type": "code",
   "execution_count": 4,
   "metadata": {},
   "outputs": [
    {
     "data": {
      "text/plain": [
       "Rock             109235\n",
       "Pop               40466\n",
       "Hip-Hop           24850\n",
       "Not Available     23941\n",
       "Metal             23759\n",
       "Country           14387\n",
       "Jazz               7970\n",
       "Electronic         7966\n",
       "Other              5189\n",
       "R&B                3401\n",
       "Indie              3149\n",
       "Folk               2243\n",
       "Name: genre, dtype: int64"
      ]
     },
     "execution_count": 4,
     "metadata": {},
     "output_type": "execute_result"
    }
   ],
   "source": [
    "# Checking distribution of song genres\n",
    "df.genre.value_counts()"
   ]
  },
  {
   "cell_type": "code",
   "execution_count": 5,
   "metadata": {},
   "outputs": [
    {
     "data": {
      "text/plain": [
       "Rock             0.409801\n",
       "Pop              0.151811\n",
       "Hip-Hop          0.093226\n",
       "Not Available    0.089816\n",
       "Metal            0.089133\n",
       "Country          0.053974\n",
       "Jazz             0.029900\n",
       "Electronic       0.029885\n",
       "Other            0.019467\n",
       "R&B              0.012759\n",
       "Indie            0.011814\n",
       "Folk             0.008415\n",
       "Name: genre, dtype: float64"
      ]
     },
     "execution_count": 5,
     "metadata": {},
     "output_type": "execute_result"
    }
   ],
   "source": [
    "# 45% of songs were in the rock category\n",
    "df.genre.value_counts(normalize=True)"
   ]
  },
  {
   "cell_type": "code",
   "execution_count": 6,
   "metadata": {},
   "outputs": [
    {
     "data": {
      "text/plain": [
       "(228633, 5)"
      ]
     },
     "execution_count": 6,
     "metadata": {},
     "output_type": "execute_result"
    }
   ],
   "source": [
    "# removing all rows with genre 'not available', most seemed to be foreign language songs\n",
    "# removing genres that made up under 0.02% of dataset each\n",
    "# decided to focus on smaller selection of genres\n",
    "\n",
    "df = df[df.genre != 'Not Available'].copy()\n",
    "df = df[df.genre != 'Other'].copy()\n",
    "df = df[df.genre != 'Folk'].copy()\n",
    "df = df[df.genre != 'R&B'].copy()\n",
    "df = df[df.genre != 'Indie'].copy()\n",
    "\n",
    "df.shape # (228634, 5)\n"
   ]
  },
  {
   "cell_type": "code",
   "execution_count": 7,
   "metadata": {},
   "outputs": [
    {
     "data": {
      "text/plain": [
       "Rock          0.477774\n",
       "Pop           0.176991\n",
       "Hip-Hop       0.108689\n",
       "Metal         0.103918\n",
       "Country       0.062926\n",
       "Jazz          0.034859\n",
       "Electronic    0.034842\n",
       "Name: genre, dtype: float64"
      ]
     },
     "execution_count": 7,
     "metadata": {},
     "output_type": "execute_result"
    }
   ],
   "source": [
    "# Genre distribution after removing 5 other genre categories\n",
    "df.genre.value_counts(normalize=True)"
   ]
  },
  {
   "cell_type": "code",
   "execution_count": 8,
   "metadata": {},
   "outputs": [],
   "source": [
    "# cleaning song title, lyrics and artist name\n",
    "\n",
    "df.song = df.song.str.replace('-',' ')\n",
    "df.song = df.song.str.replace('[^\\w\\s]','')\n",
    "\n",
    "df.artist = df.artist.str.replace('-',' ')\n",
    "df.artist = df.artist.str.replace('[^\\w\\s]','')\n",
    "\n",
    "df.lyrics = df.lyrics.str.replace(\"\\n\",\" \")\n",
    "df.lyrics = df.lyrics.replace('[^\\w\\s]','')\n",
    "df.lyrics = df.lyrics.str.replace('\\[','')\n",
    "df.lyrics = df.lyrics.str.replace('\\]','')\n",
    "df.lyrics = df.lyrics.str.replace(':','')\n",
    "df.lyrics = df.lyrics.str.replace('Verse','')\n",
    "df.lyrics = df.lyrics.str.replace('Chorus','')\n",
    "df.lyrics = df.lyrics.str.replace('?','')\n",
    "df.lyrics = df.lyrics.str.replace(',','')\n",
    "df.lyrics = df.lyrics.str.replace(\"'\",\"\")\n",
    "df.lyrics = df.lyrics.str.replace('\\d', '')"
   ]
  },
  {
   "cell_type": "code",
   "execution_count": 9,
   "metadata": {},
   "outputs": [
    {
     "data": {
      "text/plain": [
       "2006    65312\n",
       "2007    58815\n",
       "2008    15524\n",
       "2014    10108\n",
       "2009     8575\n",
       "2010     8516\n",
       "2012     8513\n",
       "2011     8287\n",
       "2016     7973\n",
       "2013     7897\n",
       "2015     7266\n",
       "2005     4304\n",
       "2004     2567\n",
       "2003     1598\n",
       "2002     1425\n",
       "2001     1105\n",
       "2000     1073\n",
       "1990     1022\n",
       "1999      913\n",
       "1997      735\n",
       "1998      729\n",
       "1996      684\n",
       "1995      639\n",
       "1994      546\n",
       "1993      487\n",
       "1992      481\n",
       "1991      247\n",
       "1989      241\n",
       "1977      231\n",
       "1982      227\n",
       "1973      224\n",
       "1980      187\n",
       "1988      175\n",
       "1981      168\n",
       "1984      167\n",
       "1978      165\n",
       "1986      164\n",
       "1979      162\n",
       "1971      161\n",
       "1972      148\n",
       "1974      148\n",
       "1970      141\n",
       "1983      138\n",
       "1985      130\n",
       "1975      125\n",
       "1987      114\n",
       "1976       69\n",
       "112         4\n",
       "702         1\n",
       "67          1\n",
       "1968        1\n",
       "Name: year, dtype: int64"
      ]
     },
     "execution_count": 9,
     "metadata": {},
     "output_type": "execute_result"
    }
   ],
   "source": [
    "# checking distribution year, found some errors in some cells\n",
    "df.year.value_counts()"
   ]
  },
  {
   "cell_type": "code",
   "execution_count": 11,
   "metadata": {},
   "outputs": [
    {
     "data": {
      "text/html": [
       "<div>\n",
       "<style scoped>\n",
       "    .dataframe tbody tr th:only-of-type {\n",
       "        vertical-align: middle;\n",
       "    }\n",
       "\n",
       "    .dataframe tbody tr th {\n",
       "        vertical-align: top;\n",
       "    }\n",
       "\n",
       "    .dataframe thead th {\n",
       "        text-align: right;\n",
       "    }\n",
       "</style>\n",
       "<table border=\"1\" class=\"dataframe\">\n",
       "  <thead>\n",
       "    <tr style=\"text-align: right;\">\n",
       "      <th></th>\n",
       "      <th>song</th>\n",
       "      <th>year</th>\n",
       "      <th>artist</th>\n",
       "      <th>genre</th>\n",
       "      <th>lyrics</th>\n",
       "    </tr>\n",
       "  </thead>\n",
       "  <tbody>\n",
       "    <tr>\n",
       "      <th>27657</th>\n",
       "      <td>star</td>\n",
       "      <td>702</td>\n",
       "      <td>clipse</td>\n",
       "      <td>Hip-Hop</td>\n",
       "      <td>Youre my star Its such a wonder how you shine ...</td>\n",
       "    </tr>\n",
       "  </tbody>\n",
       "</table>\n",
       "</div>"
      ],
      "text/plain": [
       "       song  year  artist    genre  \\\n",
       "27657  star   702  clipse  Hip-Hop   \n",
       "\n",
       "                                                  lyrics  \n",
       "27657  Youre my star Its such a wonder how you shine ...  "
      ]
     },
     "execution_count": 11,
     "metadata": {},
     "output_type": "execute_result"
    }
   ],
   "source": [
    "# checking rows where year was incorrect\n",
    "\n",
    "df[df.year == 67]\n",
    "df[df.year == 112]\n",
    "df[df.year == 702]"
   ]
  },
  {
   "cell_type": "code",
   "execution_count": 12,
   "metadata": {},
   "outputs": [],
   "source": [
    "# cleaning incorrect years, artist name was confused for year\n",
    "\n",
    "\n",
    "df.at[69708, 'artist'] = '112'\n",
    "df.at[147914, 'artist'] = '112'\n",
    "df.at[238541, 'artist'] = '112'\n",
    "df.at[27657, 'artist'] = '702'\n",
    "df.at[155200, 'artist'] = '0510 ent'\n",
    "\n",
    "df.at[315540, 'year'] = 2016\n",
    "df.at[69708, 'year'] = 1999\n",
    "df.at[147914, 'year'] = 2000\n",
    "df.at[238541, 'year'] = 1996\n",
    "df.at[335205, 'year'] = 2001\n",
    "df.at[27657, 'year'] = 2003\n"
   ]
  },
  {
   "cell_type": "code",
   "execution_count": 14,
   "metadata": {},
   "outputs": [],
   "source": [
    "# save to csv\n",
    "df.to_csv('/Users/sarinaamin/Desktop/capstone/genre-predictions-v2/kaggle-cleaned-160120.csv', index=False)\n",
    "\n"
   ]
  },
  {
   "cell_type": "code",
   "execution_count": 15,
   "metadata": {},
   "outputs": [],
   "source": [
    "df = pd.read_csv('/Users/sarinaamin/Desktop/capstone/genre-predictions-v2/kaggle-cleaned-160120.csv')\n"
   ]
  },
  {
   "cell_type": "code",
   "execution_count": 16,
   "metadata": {},
   "outputs": [
    {
     "data": {
      "image/png": "[encoded data removed]",
      "text/plain": [
       "<Figure size 1440x576 with 1 Axes>"
      ]
     },
     "metadata": {
      "image/png": {
       "height": 501,
       "width": 1187
      },
      "needs_background": "light"
     },
     "output_type": "display_data"
    }
   ],
   "source": [
    "# visualising distribution of songs over time\n",
    "# data is unevenly distributed and mostly from 2006/2007\n",
    "\n",
    "plt.figure(figsize=(20,8))\n",
    "ax = sns.countplot(df.year)\n",
    "ax.set_xticklabels(ax.get_xticklabels(), rotation=45)\n",
    "plt.show()"
   ]
  },
  {
   "cell_type": "markdown",
   "metadata": {},
   "source": [
    "I would have preferred for my data to be more evenly distributed across time as it would have been interesting to see if there were any evolutions in language from within each genre and if this would have helped to identify song genres.\n"
   ]
  },
  {
   "cell_type": "code",
   "execution_count": 17,
   "metadata": {},
   "outputs": [
    {
     "name": "stdout",
     "output_type": "stream",
     "text": [
      "Distribution of Genre in 2006:\n"
     ]
    },
    {
     "data": {
      "text/plain": [
       "genre\n",
       "Rock          36407\n",
       "Pop           11723\n",
       "Hip-Hop        6062\n",
       "Metal          5922\n",
       "Country        2154\n",
       "Electronic     1880\n",
       "Jazz           1164\n",
       "Name: genre, dtype: int64"
      ]
     },
     "execution_count": 17,
     "metadata": {},
     "output_type": "execute_result"
    }
   ],
   "source": [
    "print('Distribution of Genre in 2006:')\n",
    "df[df.year == 2006].groupby('genre')['genre'].count().sort_values(ascending=False)\n"
   ]
  },
  {
   "cell_type": "code",
   "execution_count": 18,
   "metadata": {},
   "outputs": [
    {
     "name": "stdout",
     "output_type": "stream",
     "text": [
      "Distribution of Genre in 2007:\n"
     ]
    },
    {
     "data": {
      "text/plain": [
       "genre\n",
       "Rock          28551\n",
       "Metal         12041\n",
       "Country        6400\n",
       "Pop            5684\n",
       "Hip-Hop        3808\n",
       "Jazz           1233\n",
       "Electronic     1098\n",
       "Name: genre, dtype: int64"
      ]
     },
     "execution_count": 18,
     "metadata": {},
     "output_type": "execute_result"
    }
   ],
   "source": [
    "print('Distribution of Genre in 2007:')\n",
    "df[df.year == 2007].groupby('genre')['genre'].count().sort_values(ascending=False)\n"
   ]
  },
  {
   "cell_type": "code",
   "execution_count": 19,
   "metadata": {},
   "outputs": [
    {
     "data": {
      "text/plain": [
       "Rock          109235\n",
       "Pop            40466\n",
       "Hip-Hop        24850\n",
       "Metal          23759\n",
       "Country        14387\n",
       "Jazz            7970\n",
       "Electronic      7966\n",
       "Name: genre, dtype: int64"
      ]
     },
     "execution_count": 19,
     "metadata": {},
     "output_type": "execute_result"
    }
   ],
   "source": [
    "df.genre.value_counts()\n"
   ]
  },
  {
   "cell_type": "code",
   "execution_count": 20,
   "metadata": {},
   "outputs": [
    {
     "data": {
      "image/png": "[encoded data removed]",
      "text/plain": [
       "<Figure size 432x288 with 1 Axes>"
      ]
     },
     "metadata": {
      "image/png": {
       "height": 301,
       "width": 408
      },
      "needs_background": "light"
     },
     "output_type": "display_data"
    }
   ],
   "source": [
    "# rock will be reduced to 40,000 to even out distribution\n",
    "# this is also to reduce the dataset to a size my laptop can manage better\n",
    "\n",
    "sns.countplot(data=df, x='genre')\n",
    "plt.xticks(rotation=90)\n",
    "plt.show()"
   ]
  },
  {
   "cell_type": "code",
   "execution_count": 21,
   "metadata": {},
   "outputs": [],
   "source": [
    "# removing 40,000 songs with the genre 'rock'\n",
    "\n",
    "# I created a subset of my dataframe with on rock songs\n",
    "df[df.genre == 'Rock'].shape[0] # 109235, same as count above\n",
    "\n",
    "# Then I minused 40,000 from this, now I know I need to remove 69235 rows\n",
    "num_to_remove = df[df.genre == 'Rock'].shape[0] - 40000\n",
    "\n",
    "# Here I create a subset of the first 69235 from within the rock subset\n",
    "remove = df[df.genre == 'Rock'][:num_to_remove]\n",
    "\n",
    "# I think put the index numbers of the 'remove' subset into a list\n",
    "remove_index = remove.index.to_list()"
   ]
  },
  {
   "cell_type": "code",
   "execution_count": 22,
   "metadata": {},
   "outputs": [],
   "source": [
    "# if an index from the remove dataframe matches an index my original dataframe\n",
    "# that row is removed from my original dataframe\n",
    "\n",
    "for i in range(0, df.shape[0]):\n",
    "    if i in remove_index:\n",
    "        df.drop(i, inplace=True)\n",
    "                    \n",
    "df.reset_index(drop=True, inplace=True)  "
   ]
  },
  {
   "cell_type": "code",
   "execution_count": 23,
   "metadata": {},
   "outputs": [
    {
     "data": {
      "text/plain": [
       "(159400, 5)"
      ]
     },
     "execution_count": 23,
     "metadata": {},
     "output_type": "execute_result"
    }
   ],
   "source": [
    "df.shape # 159400"
   ]
  },
  {
   "cell_type": "code",
   "execution_count": 24,
   "metadata": {},
   "outputs": [],
   "source": [
    "df.to_csv('/Users/sarinaamin/Desktop/capstone/genre-predictions-v2/kaggle-reduced-160120.csv', index=False)\n"
   ]
  },
  {
   "cell_type": "code",
   "execution_count": 2,
   "metadata": {},
   "outputs": [],
   "source": [
    "df = pd.read_csv('/Users/sarinaamin/Desktop/capstone/genre-predictions-v2/kaggle-reduced-160120.csv')"
   ]
  },
  {
   "cell_type": "code",
   "execution_count": 3,
   "metadata": {},
   "outputs": [
    {
     "data": {
      "text/plain": [
       "Pop           0.253868\n",
       "Rock          0.250944\n",
       "Hip-Hop       0.155899\n",
       "Metal         0.149055\n",
       "Country       0.090258\n",
       "Jazz          0.050001\n",
       "Electronic    0.049976\n",
       "Name: genre, dtype: float64"
      ]
     },
     "execution_count": 3,
     "metadata": {},
     "output_type": "execute_result"
    }
   ],
   "source": [
    "# checking new distribution in genre\n",
    "df.genre.value_counts(normalize=True)"
   ]
  },
  {
   "cell_type": "code",
   "execution_count": 4,
   "metadata": {},
   "outputs": [
    {
     "data": {
      "image/png": "[encoded data removed]",
      "text/plain": [
       "<Figure size 432x288 with 1 Axes>"
      ]
     },
     "metadata": {
      "image/png": {
       "height": 301,
       "width": 401
      },
      "needs_background": "light"
     },
     "output_type": "display_data"
    }
   ],
   "source": [
    "sns.countplot(data=df, x='genre')\n",
    "plt.xticks(rotation=90)\n",
    "plt.show()"
   ]
  },
  {
   "cell_type": "markdown",
   "metadata": {},
   "source": [
    "### Collecting Audio Features Using Spotify's API"
   ]
  },
  {
   "cell_type": "code",
   "execution_count": 6,
   "metadata": {},
   "outputs": [],
   "source": [
    "# if song cannot be found using search below, the nan dictionary will be appended so that everything \n",
    "# remains correctly formated / can easily be turned into a dataframe\n",
    "    \n",
    "nan_dict = {'danceability': np.nan,\n",
    "                    'energy': np.nan,\n",
    "                    'key': np.nan,\n",
    "                    'loudness': np.nan,\n",
    "                    'mode': np.nan,\n",
    "                    'speechiness': np.nan,\n",
    "                    'acousticness': np.nan,\n",
    "                    'instrumentalness': np.nan,\n",
    "                    'liveness': np.nan,\n",
    "                    'valence': np.nan,\n",
    "                    'tempo': np.nan,\n",
    "                    'type': np.nan,\n",
    "                    'id': np.nan,\n",
    "                    'uri': np.nan,\n",
    "                    'track_href': np.nan,\n",
    "                    'analysis_url': np.nan,\n",
    "                    'duration_ms': np.nan,\n",
    "                    'time_signature': np.nan}"
   ]
  },
  {
   "cell_type": "code",
   "execution_count": 7,
   "metadata": {},
   "outputs": [],
   "source": [
    "# token expires after approx 15,000 songs have been iterated over, hence why it is included in this function\n",
    "# kaggle dataframe has been split into sections\n",
    "# each time function is used on it, new token will be activated\n",
    "   \n",
    "def get_features(zipped):\n",
    "    \n",
    "    # getting token for spotify api, expires after 1 hour exactly\n",
    "    client_id = 'c6ce241905234f6a9e1a12b0426a08ec'\n",
    "    secret = '56f274ea215e4bf1be8c73d0f1e86a5f'\n",
    "    url = 'http://localhost:8080'\n",
    "\n",
    "    client_credentials_manager = SpotifyClientCredentials(client_id, secret)\n",
    "    sp = spotipy.Spotify(client_credentials_manager=client_credentials_manager)\n",
    "\n",
    "    username = \"Lyrics for Success\"\n",
    "    scope = 'user-library-read playlist-read-private'\n",
    "    token = util.prompt_for_user_token(username, scope, client_id, secret, url)\n",
    "    if token:\n",
    "        sp = spotipy.Spotify(auth=token)\n",
    "    else:\n",
    "        print(\"Can't get token for\", username)\n",
    "    \n",
    "    \n",
    "    audio_features = []\n",
    "    \n",
    "    # pairing artists + tracks for search query\n",
    "    for pair in tqdm_notebook(zipped):\n",
    "        artist, track = pair\n",
    "        \n",
    "        # spotipy query framework\n",
    "        results = sp.search(q='artist:{} track:{}'.format(artist, track), limit=1)\n",
    "        \n",
    "        # if no results are found append dictionary full of nan values so that rows remain aligned\n",
    "        # with original dataframe\n",
    "        if results['tracks']['items'] == []:\n",
    "            audio_features.append(nan_dict)\n",
    "        \n",
    "        # otherwise append resulting audio features for song to list\n",
    "        else:\n",
    "            temp_id = results['tracks']['items'][0]['id']\n",
    "            audio_features.append((sp.audio_features(temp_id)[0]))\n",
    "        \n",
    "    return audio_features"
   ]
  },
  {
   "cell_type": "code",
   "execution_count": 8,
   "metadata": {},
   "outputs": [],
   "source": [
    "# extra cleaning for specific cases, searches did not work with if ' in song\n",
    "df.song = df.song.str.replace(\"'\", \"\").copy()\n",
    "df.artist = df.artist.str.replace(\"beyonce knowles\", \"beyoncé\").copy()"
   ]
  },
  {
   "cell_type": "code",
   "execution_count": 10,
   "metadata": {},
   "outputs": [
    {
     "data": {
      "application/vnd.jupyter.widget-view+json": {
       "model_id": "5704e269dd7a40d8a6076abbe101c875",
       "version_major": 2,
       "version_minor": 0
      },
      "text/plain": [
       "HBox(children=(IntProgress(value=1, bar_style='info', max=1), HTML(value='')))"
      ]
     },
     "metadata": {},
     "output_type": "display_data"
    },
    {
     "name": "stdout",
     "output_type": "stream",
     "text": [
      "CPU times: user 6min 36s, sys: 28.7 s, total: 7min 5s\n",
      "Wall time: 41min 50s\n"
     ]
    }
   ],
   "source": [
    "artist_names = df.artist[:10000] \n",
    "track_names = df.song[:10000]\n",
    "\n",
    "zipped = zip(artist_names, track_names)\n",
    "\n",
    "%time audio_features = get_features(zipped)\n",
    "\n",
    "# issue where the api occasionally appends NoneType to list and breaks code, this function deals with that\n",
    "# so it can be saved as a csv easily\n",
    "        \n",
    "audio_features = [nan_dict if x is None else x for x in audio_features]\n",
    "\n",
    "kaggle_audio_1 = pd.DataFrame(audio_features)\n",
    "kaggle_audio_1.to_csv('/Users/sarinaamin/Desktop/capstone/genre-predictions-v2/audio-features-1.csv', index=False)\n"
   ]
  },
  {
   "cell_type": "code",
   "execution_count": 12,
   "metadata": {},
   "outputs": [
    {
     "data": {
      "application/vnd.jupyter.widget-view+json": {
       "model_id": "169996422c2f4e529088065f4a786f83",
       "version_major": 2,
       "version_minor": 0
      },
      "text/plain": [
       "HBox(children=(IntProgress(value=1, bar_style='info', max=1), HTML(value='')))"
      ]
     },
     "metadata": {},
     "output_type": "display_data"
    },
    {
     "name": "stdout",
     "output_type": "stream",
     "text": [
      "CPU times: user 6min 46s, sys: 29.4 s, total: 7min 16s\n",
      "Wall time: 43min 4s\n"
     ]
    }
   ],
   "source": [
    "artist_names = df.artist[10000:20000] \n",
    "track_names = df.song[10000:20000]\n",
    "\n",
    "zipped = zip(artist_names, track_names)\n",
    "\n",
    "%time audio_features = get_features(zipped)\n",
    "        \n",
    "audio_features = [nan_dict if x is None else x for x in audio_features]\n",
    "\n",
    "kaggle_audio_2 = pd.DataFrame(audio_features)\n",
    "kaggle_audio_2.to_csv('/Users/sarinaamin/Desktop/capstone/genre-predictions-v2/audio-features-2.csv', index=False)\n"
   ]
  },
  {
   "cell_type": "code",
   "execution_count": 15,
   "metadata": {},
   "outputs": [
    {
     "data": {
      "application/vnd.jupyter.widget-view+json": {
       "model_id": "c8248b2daa9c46a187455d6d8dced78c",
       "version_major": 2,
       "version_minor": 0
      },
      "text/plain": [
       "HBox(children=(IntProgress(value=1, bar_style='info', max=1), HTML(value='')))"
      ]
     },
     "metadata": {},
     "output_type": "display_data"
    },
    {
     "name": "stdout",
     "output_type": "stream",
     "text": [
      "CPU times: user 7min 22s, sys: 30.5 s, total: 7min 53s\n",
      "Wall time: 41min 59s\n"
     ]
    }
   ],
   "source": [
    "artist_names = df.artist[20000:30000] \n",
    "track_names = df.song[20000:30000]\n",
    "\n",
    "zipped = zip(artist_names, track_names)\n",
    "\n",
    "%time audio_features = get_features(zipped)\n",
    "        \n",
    "audio_features = [nan_dict if x is None else x for x in audio_features]\n",
    "\n",
    "kaggle_audio_3 = pd.DataFrame(audio_features)\n",
    "kaggle_audio_3.to_csv('/Users/sarinaamin/Desktop/capstone/genre-predictions-v2/audio-features-3.csv', index=False)\n"
   ]
  },
  {
   "cell_type": "code",
   "execution_count": 17,
   "metadata": {},
   "outputs": [
    {
     "data": {
      "application/vnd.jupyter.widget-view+json": {
       "model_id": "1ec9f48ff7e5460c9fc29705add41813",
       "version_major": 2,
       "version_minor": 0
      },
      "text/plain": [
       "HBox(children=(IntProgress(value=1, bar_style='info', max=1), HTML(value='')))"
      ]
     },
     "metadata": {},
     "output_type": "display_data"
    },
    {
     "name": "stdout",
     "output_type": "stream",
     "text": [
      "CPU times: user 6min 48s, sys: 28.9 s, total: 7min 17s\n",
      "Wall time: 44min 30s\n"
     ]
    }
   ],
   "source": [
    "artist_names = df.artist[30000:40000] \n",
    "track_names = df.song[30000:40000]\n",
    "\n",
    "zipped = zip(artist_names, track_names)\n",
    "\n",
    "%time audio_features = get_features(zipped)\n",
    "        \n",
    "audio_features = [nan_dict if x is None else x for x in audio_features]\n",
    "\n",
    "kaggle_audio_4 = pd.DataFrame(audio_features)\n",
    "kaggle_audio_4.to_csv('/Users/sarinaamin/Desktop/capstone/genre-predictions-v2/audio-features-4.csv', index=False)\n"
   ]
  },
  {
   "cell_type": "code",
   "execution_count": 20,
   "metadata": {},
   "outputs": [
    {
     "data": {
      "application/vnd.jupyter.widget-view+json": {
       "model_id": "db5647ba8b6a479684e9e46c20feafe0",
       "version_major": 2,
       "version_minor": 0
      },
      "text/plain": [
       "HBox(children=(IntProgress(value=1, bar_style='info', max=1), HTML(value='')))"
      ]
     },
     "metadata": {},
     "output_type": "display_data"
    },
    {
     "name": "stdout",
     "output_type": "stream",
     "text": [
      "CPU times: user 7min 12s, sys: 29.3 s, total: 7min 41s\n",
      "Wall time: 43min 36s\n"
     ]
    }
   ],
   "source": [
    "artist_names = df.artist[40000:50000] \n",
    "track_names = df.song[40000:50000]\n",
    "\n",
    "zipped = zip(artist_names, track_names)\n",
    "\n",
    "%time audio_features = get_features(zipped)\n",
    "        \n",
    "audio_features = [nan_dict if x is None else x for x in audio_features]\n",
    "\n",
    "kaggle_audio_5 = pd.DataFrame(audio_features)\n",
    "kaggle_audio_5.to_csv('/Users/sarinaamin/Desktop/capstone/genre-predictions-v2/audio-features-5.csv', index=False)\n"
   ]
  },
  {
   "cell_type": "code",
   "execution_count": 21,
   "metadata": {},
   "outputs": [
    {
     "data": {
      "application/vnd.jupyter.widget-view+json": {
       "model_id": "b421193abfd44d379757d4fb68ac31b5",
       "version_major": 2,
       "version_minor": 0
      },
      "text/plain": [
       "HBox(children=(IntProgress(value=1, bar_style='info', max=1), HTML(value='')))"
      ]
     },
     "metadata": {},
     "output_type": "display_data"
    },
    {
     "name": "stdout",
     "output_type": "stream",
     "text": [
      "retrying ...1secs\n",
      "CPU times: user 7min 37s, sys: 32.1 s, total: 8min 9s\n",
      "Wall time: 43min 10s\n"
     ]
    }
   ],
   "source": [
    "artist_names = df.artist[50000:60000] \n",
    "track_names = df.song[50000:60000]\n",
    "\n",
    "zipped = zip(artist_names, track_names)\n",
    "\n",
    "%time audio_features = get_features(zipped)\n",
    "        \n",
    "audio_features = [nan_dict if x is None else x for x in audio_features]\n",
    "\n",
    "kaggle_audio_6 = pd.DataFrame(audio_features)\n",
    "kaggle_audio_6.to_csv('/Users/sarinaamin/Desktop/capstone/genre-predictions-v2/audio-features-6.csv', index=False)\n"
   ]
  },
  {
   "cell_type": "code",
   "execution_count": 23,
   "metadata": {},
   "outputs": [
    {
     "data": {
      "application/vnd.jupyter.widget-view+json": {
       "model_id": "6c93569f0d0f4cc2a3aa5e9b6392d3a5",
       "version_major": 2,
       "version_minor": 0
      },
      "text/plain": [
       "HBox(children=(IntProgress(value=1, bar_style='info', max=1), HTML(value='')))"
      ]
     },
     "metadata": {},
     "output_type": "display_data"
    },
    {
     "name": "stdout",
     "output_type": "stream",
     "text": [
      "CPU times: user 7min 13s, sys: 31.2 s, total: 7min 45s\n",
      "Wall time: 43min 4s\n"
     ]
    }
   ],
   "source": [
    "artist_names = df.artist[60000:70000] \n",
    "track_names = df.song[60000:70000]\n",
    "\n",
    "zipped = zip(artist_names, track_names)\n",
    "\n",
    "%time audio_features = get_features(zipped)\n",
    "        \n",
    "audio_features = [nan_dict if x is None else x for x in audio_features]\n",
    "\n",
    "kaggle_audio_7 = pd.DataFrame(audio_features)\n",
    "kaggle_audio_7.to_csv('/Users/sarinaamin/Desktop/capstone/genre-predictions-v2/audio-features-7.csv', index=False)\n"
   ]
  },
  {
   "cell_type": "code",
   "execution_count": 25,
   "metadata": {},
   "outputs": [
    {
     "data": {
      "application/vnd.jupyter.widget-view+json": {
       "model_id": "af5a9a163ecb4ec0b5bb5946a88f1e1e",
       "version_major": 2,
       "version_minor": 0
      },
      "text/plain": [
       "HBox(children=(IntProgress(value=1, bar_style='info', max=1), HTML(value='')))"
      ]
     },
     "metadata": {},
     "output_type": "display_data"
    },
    {
     "name": "stdout",
     "output_type": "stream",
     "text": [
      "CPU times: user 6min 59s, sys: 29.6 s, total: 7min 29s\n",
      "Wall time: 44min 24s\n"
     ]
    }
   ],
   "source": [
    "artist_names = df.artist[70000:80000] \n",
    "track_names = df.song[70000:80000]\n",
    "\n",
    "zipped = zip(artist_names, track_names)\n",
    "\n",
    "%time audio_features = get_features(zipped)\n",
    "        \n",
    "audio_features = [nan_dict if x is None else x for x in audio_features]\n",
    "\n",
    "kaggle_audio_8 = pd.DataFrame(audio_features)\n",
    "kaggle_audio_8.to_csv('/Users/sarinaamin/Desktop/capstone/genre-predictions-v2/audio-features-8.csv', index=False)\n"
   ]
  },
  {
   "cell_type": "code",
   "execution_count": 27,
   "metadata": {},
   "outputs": [
    {
     "data": {
      "application/vnd.jupyter.widget-view+json": {
       "model_id": "457a6524c82a4c4b9d1dc164c80a8021",
       "version_major": 2,
       "version_minor": 0
      },
      "text/plain": [
       "HBox(children=(IntProgress(value=1, bar_style='info', max=1), HTML(value='')))"
      ]
     },
     "metadata": {},
     "output_type": "display_data"
    },
    {
     "name": "stdout",
     "output_type": "stream",
     "text": [
      "CPU times: user 7min 33s, sys: 34.6 s, total: 8min 7s\n",
      "Wall time: 51min 53s\n"
     ]
    }
   ],
   "source": [
    "artist_names = df.artist[80000:90000] \n",
    "track_names = df.song[80000:90000]\n",
    "\n",
    "zipped = zip(artist_names, track_names)\n",
    "\n",
    "%time audio_features = get_features(zipped)\n",
    "        \n",
    "audio_features = [nan_dict if x is None else x for x in audio_features]\n",
    "\n",
    "kaggle_audio_9 = pd.DataFrame(audio_features)\n",
    "kaggle_audio_9.to_csv('/Users/sarinaamin/Desktop/capstone/genre-predictions-v2/audio-features-9.csv', index=False)\n"
   ]
  },
  {
   "cell_type": "code",
   "execution_count": 28,
   "metadata": {},
   "outputs": [
    {
     "data": {
      "application/vnd.jupyter.widget-view+json": {
       "model_id": "6f1f521dd6b5453b92466d1278704ac8",
       "version_major": 2,
       "version_minor": 0
      },
      "text/plain": [
       "HBox(children=(IntProgress(value=1, bar_style='info', max=1), HTML(value='')))"
      ]
     },
     "metadata": {},
     "output_type": "display_data"
    },
    {
     "name": "stdout",
     "output_type": "stream",
     "text": [
      "CPU times: user 7min 47s, sys: 34.8 s, total: 8min 22s\n",
      "Wall time: 44min 35s\n"
     ]
    }
   ],
   "source": [
    "artist_names = df.artist[90000:100000] \n",
    "track_names = df.song[90000:100000]\n",
    "\n",
    "zipped = zip(artist_names, track_names)\n",
    "\n",
    "%time audio_features = get_features(zipped)\n",
    "        \n",
    "audio_features = [nan_dict if x is None else x for x in audio_features]\n",
    "\n",
    "kaggle_audio_10 = pd.DataFrame(audio_features)\n",
    "kaggle_audio_10.to_csv('/Users/sarinaamin/Desktop/capstone/genre-predictions-v2/audio-features-10.csv', index=False)\n"
   ]
  },
  {
   "cell_type": "code",
   "execution_count": 30,
   "metadata": {},
   "outputs": [
    {
     "data": {
      "application/vnd.jupyter.widget-view+json": {
       "model_id": "1621be71df4546a9b99675ef549c408e",
       "version_major": 2,
       "version_minor": 0
      },
      "text/plain": [
       "HBox(children=(IntProgress(value=1, bar_style='info', max=1), HTML(value='')))"
      ]
     },
     "metadata": {},
     "output_type": "display_data"
    },
    {
     "name": "stdout",
     "output_type": "stream",
     "text": [
      "CPU times: user 7min 35s, sys: 30 s, total: 8min 5s\n",
      "Wall time: 43min 8s\n"
     ]
    }
   ],
   "source": [
    "artist_names = df.artist[100000:110000] \n",
    "track_names = df.song[100000:110000]\n",
    "\n",
    "zipped = zip(artist_names, track_names)\n",
    "\n",
    "%time audio_features = get_features(zipped)\n",
    "        \n",
    "audio_features = [nan_dict if x is None else x for x in audio_features]\n",
    "\n",
    "kaggle_audio_11 = pd.DataFrame(audio_features)\n",
    "kaggle_audio_11.to_csv('/Users/sarinaamin/Desktop/capstone/genre-predictions-v2/audio-features-11.csv', index=False)\n"
   ]
  },
  {
   "cell_type": "code",
   "execution_count": 34,
   "metadata": {},
   "outputs": [
    {
     "data": {
      "application/vnd.jupyter.widget-view+json": {
       "model_id": "ddea0610b7784e05b2a29ad77609a47c",
       "version_major": 2,
       "version_minor": 0
      },
      "text/plain": [
       "HBox(children=(IntProgress(value=1, bar_style='info', max=1), HTML(value='')))"
      ]
     },
     "metadata": {},
     "output_type": "display_data"
    },
    {
     "name": "stdout",
     "output_type": "stream",
     "text": [
      "retrying ...1secs\n",
      "retrying ...1secs\n",
      "retrying ...1secs\n",
      "retrying ...1secs\n",
      "retrying ...1secs\n",
      "CPU times: user 6min 41s, sys: 29.4 s, total: 7min 11s\n",
      "Wall time: 42min 7s\n"
     ]
    }
   ],
   "source": [
    "artist_names = df.artist[110000:120000] \n",
    "track_names = df.song[110000:120000]\n",
    "\n",
    "zipped = zip(artist_names, track_names)\n",
    "\n",
    "%time audio_features = get_features(zipped)\n",
    "        \n",
    "audio_features = [nan_dict if x is None else x for x in audio_features]\n",
    "\n",
    "kaggle_audio_12 = pd.DataFrame(audio_features)\n",
    "kaggle_audio_12.to_csv('/Users/sarinaamin/Desktop/capstone/genre-predictions-v2/audio-features-12.csv', index=False)\n"
   ]
  },
  {
   "cell_type": "code",
   "execution_count": 36,
   "metadata": {},
   "outputs": [
    {
     "data": {
      "application/vnd.jupyter.widget-view+json": {
       "model_id": "72678de209614ae4969c92583ab5a20e",
       "version_major": 2,
       "version_minor": 0
      },
      "text/plain": [
       "HBox(children=(IntProgress(value=1, bar_style='info', max=1), HTML(value='')))"
      ]
     },
     "metadata": {},
     "output_type": "display_data"
    },
    {
     "name": "stdout",
     "output_type": "stream",
     "text": [
      "CPU times: user 7min 18s, sys: 33.2 s, total: 7min 51s\n",
      "Wall time: 43min 31s\n"
     ]
    }
   ],
   "source": [
    "artist_names = df.artist[120000:130000] \n",
    "track_names = df.song[120000:130000]\n",
    "\n",
    "zipped = zip(artist_names, track_names)\n",
    "\n",
    "%time audio_features = get_features(zipped)\n",
    "        \n",
    "audio_features = [nan_dict if x is None else x for x in audio_features]\n",
    "\n",
    "kaggle_audio_13 = pd.DataFrame(audio_features)\n",
    "kaggle_audio_13.to_csv('/Users/sarinaamin/Desktop/capstone/genre-predictions-v2/audio-features-13.csv', index=False)\n"
   ]
  },
  {
   "cell_type": "code",
   "execution_count": 40,
   "metadata": {},
   "outputs": [
    {
     "data": {
      "application/vnd.jupyter.widget-view+json": {
       "model_id": "234fa62b471647b981c870ff7a922d97",
       "version_major": 2,
       "version_minor": 0
      },
      "text/plain": [
       "HBox(children=(IntProgress(value=1, bar_style='info', max=1), HTML(value='')))"
      ]
     },
     "metadata": {},
     "output_type": "display_data"
    },
    {
     "name": "stdout",
     "output_type": "stream",
     "text": [
      "CPU times: user 7min 42s, sys: 31.8 s, total: 8min 14s\n",
      "Wall time: 42min 13s\n"
     ]
    }
   ],
   "source": [
    "artist_names = df.artist[140000:150000] \n",
    "track_names = df.song[140000:150000]\n",
    "\n",
    "zipped = zip(artist_names, track_names)\n",
    "\n",
    "%time audio_features = get_features(zipped)\n",
    "        \n",
    "audio_features = [nan_dict if x is None else x for x in audio_features]\n",
    "\n",
    "kaggle_audio_14 = pd.DataFrame(audio_features)\n",
    "kaggle_audio_14.to_csv('/Users/sarinaamin/Desktop/capstone/genre-predictions-v2/audio-features-14.csv', index=False)\n"
   ]
  },
  {
   "cell_type": "code",
   "execution_count": 42,
   "metadata": {},
   "outputs": [
    {
     "data": {
      "application/vnd.jupyter.widget-view+json": {
       "model_id": "b45a0d94b1914b5b88e8256bb91bf1b9",
       "version_major": 2,
       "version_minor": 0
      },
      "text/plain": [
       "HBox(children=(IntProgress(value=1, bar_style='info', max=1), HTML(value='')))"
      ]
     },
     "metadata": {},
     "output_type": "display_data"
    },
    {
     "name": "stdout",
     "output_type": "stream",
     "text": [
      "CPU times: user 7min 5s, sys: 29.3 s, total: 7min 35s\n",
      "Wall time: 39min 37s\n"
     ]
    }
   ],
   "source": [
    "artist_names = df.artist[150000:159400] \n",
    "track_names = df.song[150000:159400]\n",
    "\n",
    "zipped = zip(artist_names, track_names)\n",
    "\n",
    "%time audio_features = get_features(zipped)\n",
    "        \n",
    "audio_features = [nan_dict if x is None else x for x in audio_features]\n",
    "\n",
    "kaggle_audio_15 = pd.DataFrame(audio_features)\n",
    "kaggle_audio_15.to_csv('/Users/sarinaamin/Desktop/capstone/genre-predictions-v2/audio-features-15.csv', index=False)\n"
   ]
  },
  {
   "cell_type": "code",
   "execution_count": 43,
   "metadata": {},
   "outputs": [],
   "source": [
    "# putting csvs with audio features into dataframes and joining them together\n",
    "# should have same number of rows as original dataframe\n",
    "\n",
    "kaggle_audio_1 = pd.read_csv('/Users/sarinaamin/Desktop/capstone/genre-predictions-v2/audio-features-1.csv')\n",
    "kaggle_audio_2 = pd.read_csv('/Users/sarinaamin/Desktop/capstone/genre-predictions-v2/audio-features-2.csv')\n",
    "kaggle_audio_3 = pd.read_csv('/Users/sarinaamin/Desktop/capstone/genre-predictions-v2/audio-features-3.csv')\n",
    "kaggle_audio_4 = pd.read_csv('/Users/sarinaamin/Desktop/capstone/genre-predictions-v2/audio-features-4.csv')\n",
    "kaggle_audio_5 = pd.read_csv('/Users/sarinaamin/Desktop/capstone/genre-predictions-v2/audio-features-5.csv')\n",
    "kaggle_audio_6 = pd.read_csv('/Users/sarinaamin/Desktop/capstone/genre-predictions-v2/audio-features-6.csv')\n",
    "kaggle_audio_7 = pd.read_csv('/Users/sarinaamin/Desktop/capstone/genre-predictions-v2/audio-features-7.csv')\n",
    "kaggle_audio_8 = pd.read_csv('/Users/sarinaamin/Desktop/capstone/genre-predictions-v2/audio-features-8.csv')\n",
    "kaggle_audio_9 = pd.read_csv('/Users/sarinaamin/Desktop/capstone/genre-predictions-v2/audio-features-9.csv')\n",
    "kaggle_audio_10 = pd.read_csv('/Users/sarinaamin/Desktop/capstone/genre-predictions-v2/audio-features-10.csv')\n",
    "kaggle_audio_11 = pd.read_csv('/Users/sarinaamin/Desktop/capstone/genre-predictions-v2/audio-features-11.csv')\n",
    "kaggle_audio_12 = pd.read_csv('/Users/sarinaamin/Desktop/capstone/genre-predictions-v2/audio-features-12.csv')\n",
    "kaggle_audio_13 = pd.read_csv('/Users/sarinaamin/Desktop/capstone/genre-predictions-v2/audio-features-13.csv')\n",
    "kaggle_audio_14 = pd.read_csv('/Users/sarinaamin/Desktop/capstone/genre-predictions-v2/audio-features-14.csv')\n",
    "kaggle_audio_15 = pd.read_csv('/Users/sarinaamin/Desktop/capstone/genre-predictions-v2/audio-features-15.csv')\n",
    "\n",
    "audio_features_full = pd.concat([kaggle_audio_1, kaggle_audio_2, kaggle_audio_3, kaggle_audio_4, kaggle_audio_5,\n",
    "                                kaggle_audio_6, kaggle_audio_7, kaggle_audio_8, kaggle_audio_9, kaggle_audio_10,\n",
    "                                kaggle_audio_11, kaggle_audio_12, kaggle_audio_13, kaggle_audio_14, kaggle_audio_15], axis=0)"
   ]
  },
  {
   "cell_type": "code",
   "execution_count": 44,
   "metadata": {},
   "outputs": [],
   "source": [
    "# reseting index\n",
    "audio_features_full.reset_index(inplace=True, drop=True)"
   ]
  },
  {
   "cell_type": "code",
   "execution_count": 45,
   "metadata": {
    "scrolled": true
   },
   "outputs": [
    {
     "data": {
      "text/html": [
       "<div>\n",
       "<style scoped>\n",
       "    .dataframe tbody tr th:only-of-type {\n",
       "        vertical-align: middle;\n",
       "    }\n",
       "\n",
       "    .dataframe tbody tr th {\n",
       "        vertical-align: top;\n",
       "    }\n",
       "\n",
       "    .dataframe thead th {\n",
       "        text-align: right;\n",
       "    }\n",
       "</style>\n",
       "<table border=\"1\" class=\"dataframe\">\n",
       "  <thead>\n",
       "    <tr style=\"text-align: right;\">\n",
       "      <th></th>\n",
       "      <th>acousticness</th>\n",
       "      <th>analysis_url</th>\n",
       "      <th>danceability</th>\n",
       "      <th>duration_ms</th>\n",
       "      <th>energy</th>\n",
       "      <th>id</th>\n",
       "      <th>instrumentalness</th>\n",
       "      <th>key</th>\n",
       "      <th>liveness</th>\n",
       "      <th>loudness</th>\n",
       "      <th>mode</th>\n",
       "      <th>speechiness</th>\n",
       "      <th>tempo</th>\n",
       "      <th>time_signature</th>\n",
       "      <th>track_href</th>\n",
       "      <th>type</th>\n",
       "      <th>uri</th>\n",
       "      <th>valence</th>\n",
       "    </tr>\n",
       "  </thead>\n",
       "  <tbody>\n",
       "    <tr>\n",
       "      <th>0</th>\n",
       "      <td>0.114</td>\n",
       "      <td>https://api.spotify.com/v1/audio-analysis/7M4F...</td>\n",
       "      <td>0.711</td>\n",
       "      <td>283520.0</td>\n",
       "      <td>0.439</td>\n",
       "      <td>7M4F4e8lI8Dkod0IEtBx7x</td>\n",
       "      <td>0.0</td>\n",
       "      <td>1.0</td>\n",
       "      <td>0.0573</td>\n",
       "      <td>-5.156</td>\n",
       "      <td>1.0</td>\n",
       "      <td>0.1380</td>\n",
       "      <td>78.074</td>\n",
       "      <td>4.0</td>\n",
       "      <td>https://api.spotify.com/v1/tracks/7M4F4e8lI8Dk...</td>\n",
       "      <td>audio_features</td>\n",
       "      <td>spotify:track:7M4F4e8lI8Dkod0IEtBx7x</td>\n",
       "      <td>0.3260</td>\n",
       "    </tr>\n",
       "    <tr>\n",
       "      <th>1</th>\n",
       "      <td>NaN</td>\n",
       "      <td>NaN</td>\n",
       "      <td>NaN</td>\n",
       "      <td>NaN</td>\n",
       "      <td>NaN</td>\n",
       "      <td>NaN</td>\n",
       "      <td>NaN</td>\n",
       "      <td>NaN</td>\n",
       "      <td>NaN</td>\n",
       "      <td>NaN</td>\n",
       "      <td>NaN</td>\n",
       "      <td>NaN</td>\n",
       "      <td>NaN</td>\n",
       "      <td>NaN</td>\n",
       "      <td>NaN</td>\n",
       "      <td>NaN</td>\n",
       "      <td>NaN</td>\n",
       "      <td>NaN</td>\n",
       "    </tr>\n",
       "    <tr>\n",
       "      <th>2</th>\n",
       "      <td>0.428</td>\n",
       "      <td>https://api.spotify.com/v1/audio-analysis/1gTT...</td>\n",
       "      <td>0.565</td>\n",
       "      <td>224387.0</td>\n",
       "      <td>0.442</td>\n",
       "      <td>1gTT2Y987ndPot2Oygq6hn</td>\n",
       "      <td>0.0</td>\n",
       "      <td>2.0</td>\n",
       "      <td>0.1090</td>\n",
       "      <td>-7.738</td>\n",
       "      <td>1.0</td>\n",
       "      <td>0.0309</td>\n",
       "      <td>135.990</td>\n",
       "      <td>4.0</td>\n",
       "      <td>https://api.spotify.com/v1/tracks/1gTT2Y987ndP...</td>\n",
       "      <td>audio_features</td>\n",
       "      <td>spotify:track:1gTT2Y987ndPot2Oygq6hn</td>\n",
       "      <td>0.0717</td>\n",
       "    </tr>\n",
       "    <tr>\n",
       "      <th>3</th>\n",
       "      <td>NaN</td>\n",
       "      <td>NaN</td>\n",
       "      <td>NaN</td>\n",
       "      <td>NaN</td>\n",
       "      <td>NaN</td>\n",
       "      <td>NaN</td>\n",
       "      <td>NaN</td>\n",
       "      <td>NaN</td>\n",
       "      <td>NaN</td>\n",
       "      <td>NaN</td>\n",
       "      <td>NaN</td>\n",
       "      <td>NaN</td>\n",
       "      <td>NaN</td>\n",
       "      <td>NaN</td>\n",
       "      <td>NaN</td>\n",
       "      <td>NaN</td>\n",
       "      <td>NaN</td>\n",
       "      <td>NaN</td>\n",
       "    </tr>\n",
       "    <tr>\n",
       "      <th>4</th>\n",
       "      <td>NaN</td>\n",
       "      <td>NaN</td>\n",
       "      <td>NaN</td>\n",
       "      <td>NaN</td>\n",
       "      <td>NaN</td>\n",
       "      <td>NaN</td>\n",
       "      <td>NaN</td>\n",
       "      <td>NaN</td>\n",
       "      <td>NaN</td>\n",
       "      <td>NaN</td>\n",
       "      <td>NaN</td>\n",
       "      <td>NaN</td>\n",
       "      <td>NaN</td>\n",
       "      <td>NaN</td>\n",
       "      <td>NaN</td>\n",
       "      <td>NaN</td>\n",
       "      <td>NaN</td>\n",
       "      <td>NaN</td>\n",
       "    </tr>\n",
       "  </tbody>\n",
       "</table>\n",
       "</div>"
      ],
      "text/plain": [
       "   acousticness                                       analysis_url  \\\n",
       "0         0.114  https://api.spotify.com/v1/audio-analysis/7M4F...   \n",
       "1           NaN                                                NaN   \n",
       "2         0.428  https://api.spotify.com/v1/audio-analysis/1gTT...   \n",
       "3           NaN                                                NaN   \n",
       "4           NaN                                                NaN   \n",
       "\n",
       "   danceability  duration_ms  energy                      id  \\\n",
       "0         0.711     283520.0   0.439  7M4F4e8lI8Dkod0IEtBx7x   \n",
       "1           NaN          NaN     NaN                     NaN   \n",
       "2         0.565     224387.0   0.442  1gTT2Y987ndPot2Oygq6hn   \n",
       "3           NaN          NaN     NaN                     NaN   \n",
       "4           NaN          NaN     NaN                     NaN   \n",
       "\n",
       "   instrumentalness  key  liveness  loudness  mode  speechiness    tempo  \\\n",
       "0               0.0  1.0    0.0573    -5.156   1.0       0.1380   78.074   \n",
       "1               NaN  NaN       NaN       NaN   NaN          NaN      NaN   \n",
       "2               0.0  2.0    0.1090    -7.738   1.0       0.0309  135.990   \n",
       "3               NaN  NaN       NaN       NaN   NaN          NaN      NaN   \n",
       "4               NaN  NaN       NaN       NaN   NaN          NaN      NaN   \n",
       "\n",
       "   time_signature                                         track_href  \\\n",
       "0             4.0  https://api.spotify.com/v1/tracks/7M4F4e8lI8Dk...   \n",
       "1             NaN                                                NaN   \n",
       "2             4.0  https://api.spotify.com/v1/tracks/1gTT2Y987ndP...   \n",
       "3             NaN                                                NaN   \n",
       "4             NaN                                                NaN   \n",
       "\n",
       "             type                                   uri  valence  \n",
       "0  audio_features  spotify:track:7M4F4e8lI8Dkod0IEtBx7x   0.3260  \n",
       "1             NaN                                   NaN      NaN  \n",
       "2  audio_features  spotify:track:1gTT2Y987ndPot2Oygq6hn   0.0717  \n",
       "3             NaN                                   NaN      NaN  \n",
       "4             NaN                                   NaN      NaN  "
      ]
     },
     "execution_count": 45,
     "metadata": {},
     "output_type": "execute_result"
    }
   ],
   "source": [
    "# final audio features dataframe\n",
    "audio_features_full.head()"
   ]
  },
  {
   "cell_type": "code",
   "execution_count": 46,
   "metadata": {},
   "outputs": [
    {
     "data": {
      "text/html": [
       "<div>\n",
       "<style scoped>\n",
       "    .dataframe tbody tr th:only-of-type {\n",
       "        vertical-align: middle;\n",
       "    }\n",
       "\n",
       "    .dataframe tbody tr th {\n",
       "        vertical-align: top;\n",
       "    }\n",
       "\n",
       "    .dataframe thead th {\n",
       "        text-align: right;\n",
       "    }\n",
       "</style>\n",
       "<table border=\"1\" class=\"dataframe\">\n",
       "  <thead>\n",
       "    <tr style=\"text-align: right;\">\n",
       "      <th></th>\n",
       "      <th>song</th>\n",
       "      <th>year</th>\n",
       "      <th>artist</th>\n",
       "      <th>genre</th>\n",
       "      <th>lyrics</th>\n",
       "    </tr>\n",
       "  </thead>\n",
       "  <tbody>\n",
       "    <tr>\n",
       "      <th>0</th>\n",
       "      <td>ego remix</td>\n",
       "      <td>2009.0</td>\n",
       "      <td>beyoncé</td>\n",
       "      <td>Pop</td>\n",
       "      <td>Oh baby how you doing You know Im gonna cut ri...</td>\n",
       "    </tr>\n",
       "    <tr>\n",
       "      <th>1</th>\n",
       "      <td>then tell me</td>\n",
       "      <td>2009.0</td>\n",
       "      <td>beyoncé</td>\n",
       "      <td>Pop</td>\n",
       "      <td>playin everything so easy its like you seem so...</td>\n",
       "    </tr>\n",
       "    <tr>\n",
       "      <th>2</th>\n",
       "      <td>honesty</td>\n",
       "      <td>2009.0</td>\n",
       "      <td>beyoncé</td>\n",
       "      <td>Pop</td>\n",
       "      <td>If you search For tenderness It isnt hard to f...</td>\n",
       "    </tr>\n",
       "    <tr>\n",
       "      <th>3</th>\n",
       "      <td>you are my rock</td>\n",
       "      <td>2009.0</td>\n",
       "      <td>beyoncé</td>\n",
       "      <td>Pop</td>\n",
       "      <td>Oh oh oh I oh oh oh I   If I wrote a book abou...</td>\n",
       "    </tr>\n",
       "    <tr>\n",
       "      <th>4</th>\n",
       "      <td>black culture</td>\n",
       "      <td>2009.0</td>\n",
       "      <td>beyoncé</td>\n",
       "      <td>Pop</td>\n",
       "      <td>Party the people the people the party its popp...</td>\n",
       "    </tr>\n",
       "  </tbody>\n",
       "</table>\n",
       "</div>"
      ],
      "text/plain": [
       "              song    year   artist genre  \\\n",
       "0        ego remix  2009.0  beyoncé   Pop   \n",
       "1     then tell me  2009.0  beyoncé   Pop   \n",
       "2          honesty  2009.0  beyoncé   Pop   \n",
       "3  you are my rock  2009.0  beyoncé   Pop   \n",
       "4    black culture  2009.0  beyoncé   Pop   \n",
       "\n",
       "                                              lyrics  \n",
       "0  Oh baby how you doing You know Im gonna cut ri...  \n",
       "1  playin everything so easy its like you seem so...  \n",
       "2  If you search For tenderness It isnt hard to f...  \n",
       "3  Oh oh oh I oh oh oh I   If I wrote a book abou...  \n",
       "4  Party the people the people the party its popp...  "
      ]
     },
     "execution_count": 46,
     "metadata": {},
     "output_type": "execute_result"
    }
   ],
   "source": [
    "# original audio features\n",
    "df.head()"
   ]
  },
  {
   "cell_type": "code",
   "execution_count": 48,
   "metadata": {},
   "outputs": [],
   "source": [
    "# audio features + kaggle dataframe joined together\n",
    "final_df = pd.concat([df, audio_features_full], axis=1)\n",
    "final_df.reset_index(inplace=True, drop=True)"
   ]
  },
  {
   "cell_type": "code",
   "execution_count": 50,
   "metadata": {},
   "outputs": [
    {
     "data": {
      "text/plain": [
       "song                    1\n",
       "year                    2\n",
       "artist                  1\n",
       "genre                   2\n",
       "lyrics                  3\n",
       "acousticness        66134\n",
       "analysis_url        66134\n",
       "danceability        66134\n",
       "duration_ms         66134\n",
       "energy              66134\n",
       "id                  66134\n",
       "instrumentalness    66134\n",
       "key                 66134\n",
       "liveness            66134\n",
       "loudness            66134\n",
       "mode                66134\n",
       "speechiness         66134\n",
       "tempo               66134\n",
       "time_signature      66134\n",
       "track_href          66134\n",
       "type                66134\n",
       "uri                 66134\n",
       "valence             66134\n",
       "dtype: int64"
      ]
     },
     "execution_count": 50,
     "metadata": {},
     "output_type": "execute_result"
    }
   ],
   "source": [
    "# the audio features of 66,134 songs were not found and so will be dropped\n",
    "final_df.isna().sum()"
   ]
  },
  {
   "cell_type": "code",
   "execution_count": 52,
   "metadata": {},
   "outputs": [],
   "source": [
    "final_df.dropna(inplace=True)"
   ]
  },
  {
   "cell_type": "code",
   "execution_count": 53,
   "metadata": {},
   "outputs": [
    {
     "data": {
      "text/plain": [
       "(93265, 23)"
      ]
     },
     "execution_count": 53,
     "metadata": {},
     "output_type": "execute_result"
    }
   ],
   "source": [
    "final_df.shape # 93265 rows remain"
   ]
  },
  {
   "cell_type": "code",
   "execution_count": 54,
   "metadata": {},
   "outputs": [],
   "source": [
    "final_df.to_csv('/Users/sarinaamin/Desktop/capstone/genre-predictions-v2/kaggle-final-190120.csv', index=False)"
   ]
  }
 ],
 "metadata": {
  "kernelspec": {
   "display_name": "Python 3",
   "language": "python",
   "name": "python3"
  },
  "language_info": {
   "codemirror_mode": {
    "name": "ipython",
    "version": 3
   },
   "file_extension": ".py",
   "mimetype": "text/x-python",
   "name": "python",
   "nbconvert_exporter": "python",
   "pygments_lexer": "ipython3",
   "version": "3.7.3"
  }
 },
 "nbformat": 4,
 "nbformat_minor": 2
}
